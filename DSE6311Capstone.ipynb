{
  "nbformat": 4,
  "nbformat_minor": 0,
  "metadata": {
    "colab": {
      "provenance": []
    },
    "kernelspec": {
      "name": "python3",
      "display_name": "Python 3"
    },
    "language_info": {
      "name": "python"
    }
  },
  "cells": [
    {
      "cell_type": "markdown",
      "source": [
        "# **Title: Exploring the Impact of Renewable Energy Investment on Fossil Fuel Electricity Generation in the United States**"
      ],
      "metadata": {
        "id": "QYznTi82Qnss"
      }
    },
    {
      "cell_type": "markdown",
      "source": [
        "**Team Members:**\n",
        "\n",
        "Kevin Puduseril\n",
        "\n",
        "Maxwell Tuttle"
      ],
      "metadata": {
        "id": "hN_EtgDtWYAE"
      }
    },
    {
      "cell_type": "markdown",
      "source": [
        "**Background:**  \n",
        "\n",
        "As the importance of climate change grows, the global energy sector has come under close examination. One urgent topic is the need to reduce carbon emissions by shifting from fossil fuels to renewable energy sources. Despite growing investments in solar, wind, and hydroelectric power, fossil fuels like coal and natural gas still control U.S. electricity generation."
      ],
      "metadata": {
        "id": "2sIGMRG1QnqU"
      }
    },
    {
      "cell_type": "markdown",
      "source": [
        "**Question:**\n",
        "\n",
        "Does an increase in renewable energy generation notably reduce fossil fuel-based electricity generation at the state level in the United States?"
      ],
      "metadata": {
        "id": "7evFiA4cQnmt"
      }
    },
    {
      "cell_type": "markdown",
      "source": [
        "**Hypothesis:**\n",
        "\n",
        "Increases in renewable energy generation in a U.S. state are associated with decreases in fossil fuel electricity generation over time.\n",
        "\n",
        "**Predictions:**\n",
        "\n",
        "States with higher year year-over-year growth in renewable electricity generation will show a statistically significant negative correlation with fossil fuel-based electricity generation, suggesting displacement is occurring."
      ],
      "metadata": {
        "id": "BfRieBjDQnWb"
      }
    }
  ]
}