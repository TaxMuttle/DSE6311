{
 "cells": [
  {
   "cell_type": "markdown",
   "metadata": {
    "id": "xgXGF1o_l3SL"
   },
   "source": [
    "###Imports"
   ]
  },
  {
   "cell_type": "code",
   "execution_count": 32,
   "metadata": {
    "id": "KxrNUulok8st"
   },
   "outputs": [],
   "source": [
    "#pandas version '2.2.2'\n",
    "import pandas as pd"
   ]
  },
  {
   "cell_type": "code",
   "execution_count": 50,
   "metadata": {
    "colab": {
     "base_uri": "https://localhost:8080/"
    },
    "executionInfo": {
     "elapsed": 18963,
     "status": "ok",
     "timestamp": 1754417322546,
     "user": {
      "displayName": "Melissa Best",
      "userId": "13870466150492944908"
     },
     "user_tz": 240
    },
    "id": "92TTP8tHb87F",
    "outputId": "aca0f2cb-2f7f-40cd-911a-239460c8f2c7"
   },
   "outputs": [
    {
     "name": "stdout",
     "output_type": "stream",
     "text": [
      "Load data to \"/capstone_data/\" to import it.\n"
     ]
    }
   ],
   "source": [
    "try:\n",
    "    #google colab only - put data in a folder \"/content/drive/MyDrive/capstone_data/\"\n",
    "    from google.colab import drive\n",
    "    colab = 1\n",
    "    print(\"Running in Google Colab, load data to \\\"/content/drive/MyDrive/capstone_data/\\\" to import it.\")\n",
    "    drive.mount('/content/drive')\n",
    "except:\n",
    "    colab = 0\n",
    "    print(\"Load data to \\\"/capstone_data/\\\" to import it.\")\n",
    "    "
   ]
  },
  {
   "cell_type": "code",
   "execution_count": 34,
   "metadata": {
    "id": "ZdhfqOmaAxXj"
   },
   "outputs": [],
   "source": [
    "if colab == 1:\n",
    "    #google colab only\n",
    "    df_sep = pd.read_csv(\"/content/drive/MyDrive/capstone_data/State Energy Programs.csv\")\n",
    "elif colab == 0:\n",
    "    #jupyter notebook only\n",
    "    df_sep = pd.read_csv(\"capstone_data/State Energy Programs.csv\")"
   ]
  },
  {
   "cell_type": "markdown",
   "metadata": {
    "id": "aXxrYoLgmITQ"
   },
   "source": [
    "###State Energy Policies"
   ]
  },
  {
   "cell_type": "code",
   "execution_count": 35,
   "metadata": {
    "colab": {
     "base_uri": "https://localhost:8080/"
    },
    "executionInfo": {
     "elapsed": 12,
     "status": "ok",
     "timestamp": 1754417326148,
     "user": {
      "displayName": "Melissa Best",
      "userId": "13870466150492944908"
     },
     "user_tz": 240
    },
    "id": "wmr4UtLpDv18",
    "outputId": "89b466d7-c2d6-49e4-8829-cbd51ff70d55"
   },
   "outputs": [
    {
     "name": "stdout",
     "output_type": "stream",
     "text": [
      "                                                Name State  \\\n",
      "0                             Alaska Solar Easements    AK   \n",
      "1                            Power Project Loan Fund    AK   \n",
      "2  Golden Valley Electric Association - Sustainab...    AK   \n",
      "3  Energy Efficiency Interest Rate Reduction Program    AK   \n",
      "4                           Association Loan Program    AK   \n",
      "\n",
      "              Category        Policy_Incentive_Type     Created Last_Updated  \n",
      "0    Regulatory Policy     Solar/Wind Access Policy    1/1/2000    11/5/2023  \n",
      "1  Financial Incentive                 Loan Program    1/1/2000    10/9/2024  \n",
      "2  Financial Incentive  Performance-Based Incentive  12/13/2005    3/21/2025  \n",
      "3  Financial Incentive                 Loan Program   5/18/2006    10/4/2024  \n",
      "4  Financial Incentive                 Loan Program   5/18/2006    10/4/2024  \n"
     ]
    }
   ],
   "source": [
    "print(df_sep.head())"
   ]
  },
  {
   "cell_type": "code",
   "execution_count": 36,
   "metadata": {
    "colab": {
     "base_uri": "https://localhost:8080/"
    },
    "executionInfo": {
     "elapsed": 15,
     "status": "ok",
     "timestamp": 1754417328928,
     "user": {
      "displayName": "Melissa Best",
      "userId": "13870466150492944908"
     },
     "user_tz": 240
    },
    "id": "_fyZR391mMej",
    "outputId": "789c80a0-f396-4869-bcd6-0ab41cd84a4d"
   },
   "outputs": [
    {
     "name": "stdout",
     "output_type": "stream",
     "text": [
      "<class 'pandas.core.frame.DataFrame'>\n",
      "RangeIndex: 2529 entries, 0 to 2528\n",
      "Data columns (total 6 columns):\n",
      " #   Column                 Non-Null Count  Dtype \n",
      "---  ------                 --------------  ----- \n",
      " 0   Name                   2529 non-null   object\n",
      " 1   State                  2529 non-null   object\n",
      " 2   Category               2529 non-null   object\n",
      " 3   Policy_Incentive_Type  2529 non-null   object\n",
      " 4   Created                2529 non-null   object\n",
      " 5   Last_Updated           2529 non-null   object\n",
      "dtypes: object(6)\n",
      "memory usage: 118.7+ KB\n",
      "None\n"
     ]
    }
   ],
   "source": [
    "print(df_sep.info())"
   ]
  },
  {
   "cell_type": "code",
   "execution_count": 37,
   "metadata": {
    "colab": {
     "base_uri": "https://localhost:8080/"
    },
    "executionInfo": {
     "elapsed": 6,
     "status": "ok",
     "timestamp": 1754417331279,
     "user": {
      "displayName": "Melissa Best",
      "userId": "13870466150492944908"
     },
     "user_tz": 240
    },
    "id": "LrCYsgeNmOHl",
    "outputId": "39dfe853-fe54-4990-8143-af42dd01bf60"
   },
   "outputs": [
    {
     "name": "stdout",
     "output_type": "stream",
     "text": [
      "                        Name State             Category Policy_Incentive_Type  \\\n",
      "count                   2529  2529                 2529                  2529   \n",
      "unique                  2249    57                    2                    45   \n",
      "top     Building Energy Code    CA  Financial Incentive        Rebate Program   \n",
      "freq                      46   156                 1841                  1138   \n",
      "\n",
      "         Created Last_Updated  \n",
      "count       2529         2529  \n",
      "unique      1220          492  \n",
      "top     1/1/2000    8/11/2023  \n",
      "freq         166           56  \n"
     ]
    }
   ],
   "source": [
    "print(df_sep.describe())"
   ]
  },
  {
   "cell_type": "code",
   "execution_count": 38,
   "metadata": {
    "id": "EHuOelef8UZK"
   },
   "outputs": [],
   "source": [
    "df_sep['Created_Year'] = [pd.to_numeric(date[-4:]) for date in df_sep['Created']]"
   ]
  },
  {
   "cell_type": "code",
   "execution_count": 39,
   "metadata": {
    "colab": {
     "base_uri": "https://localhost:8080/",
     "height": 300
    },
    "executionInfo": {
     "elapsed": 48,
     "status": "ok",
     "timestamp": 1754417337067,
     "user": {
      "displayName": "Melissa Best",
      "userId": "13870466150492944908"
     },
     "user_tz": 240
    },
    "id": "YzCs4loSKuBG",
    "outputId": "a20dd2b8-9724-4e16-f019-9b3f4d069565"
   },
   "outputs": [
    {
     "data": {
      "text/html": [
       "<div>\n",
       "<style scoped>\n",
       "    .dataframe tbody tr th:only-of-type {\n",
       "        vertical-align: middle;\n",
       "    }\n",
       "\n",
       "    .dataframe tbody tr th {\n",
       "        vertical-align: top;\n",
       "    }\n",
       "\n",
       "    .dataframe thead th {\n",
       "        text-align: right;\n",
       "    }\n",
       "</style>\n",
       "<table border=\"1\" class=\"dataframe\">\n",
       "  <thead>\n",
       "    <tr style=\"text-align: right;\">\n",
       "      <th></th>\n",
       "      <th>Created_Year</th>\n",
       "    </tr>\n",
       "  </thead>\n",
       "  <tbody>\n",
       "    <tr>\n",
       "      <th>count</th>\n",
       "      <td>2529.000000</td>\n",
       "    </tr>\n",
       "    <tr>\n",
       "      <th>mean</th>\n",
       "      <td>2011.092131</td>\n",
       "    </tr>\n",
       "    <tr>\n",
       "      <th>std</th>\n",
       "      <td>7.033755</td>\n",
       "    </tr>\n",
       "    <tr>\n",
       "      <th>min</th>\n",
       "      <td>2000.000000</td>\n",
       "    </tr>\n",
       "    <tr>\n",
       "      <th>25%</th>\n",
       "      <td>2006.000000</td>\n",
       "    </tr>\n",
       "    <tr>\n",
       "      <th>50%</th>\n",
       "      <td>2009.000000</td>\n",
       "    </tr>\n",
       "    <tr>\n",
       "      <th>75%</th>\n",
       "      <td>2016.000000</td>\n",
       "    </tr>\n",
       "    <tr>\n",
       "      <th>max</th>\n",
       "      <td>2025.000000</td>\n",
       "    </tr>\n",
       "  </tbody>\n",
       "</table>\n",
       "</div>"
      ],
      "text/plain": [
       "       Created_Year\n",
       "count   2529.000000\n",
       "mean    2011.092131\n",
       "std        7.033755\n",
       "min     2000.000000\n",
       "25%     2006.000000\n",
       "50%     2009.000000\n",
       "75%     2016.000000\n",
       "max     2025.000000"
      ]
     },
     "execution_count": 39,
     "metadata": {},
     "output_type": "execute_result"
    }
   ],
   "source": [
    "df_sep.describe()"
   ]
  },
  {
   "cell_type": "code",
   "execution_count": 40,
   "metadata": {
    "id": "hYHNB6SLasav"
   },
   "outputs": [],
   "source": [
    "df_sep = df_sep[df_sep['Created_Year'] >= 2000]\n",
    "df_sep = df_sep[df_sep['Created_Year'] <= 2019]"
   ]
  },
  {
   "cell_type": "code",
   "execution_count": 41,
   "metadata": {
    "colab": {
     "base_uri": "https://localhost:8080/",
     "height": 300
    },
    "executionInfo": {
     "elapsed": 20,
     "status": "ok",
     "timestamp": 1754417348692,
     "user": {
      "displayName": "Melissa Best",
      "userId": "13870466150492944908"
     },
     "user_tz": 240
    },
    "id": "df6WVCIgbDWq",
    "outputId": "1903502b-9b00-4379-a702-b703a511221a"
   },
   "outputs": [
    {
     "data": {
      "text/html": [
       "<div>\n",
       "<style scoped>\n",
       "    .dataframe tbody tr th:only-of-type {\n",
       "        vertical-align: middle;\n",
       "    }\n",
       "\n",
       "    .dataframe tbody tr th {\n",
       "        vertical-align: top;\n",
       "    }\n",
       "\n",
       "    .dataframe thead th {\n",
       "        text-align: right;\n",
       "    }\n",
       "</style>\n",
       "<table border=\"1\" class=\"dataframe\">\n",
       "  <thead>\n",
       "    <tr style=\"text-align: right;\">\n",
       "      <th></th>\n",
       "      <th>Created_Year</th>\n",
       "    </tr>\n",
       "  </thead>\n",
       "  <tbody>\n",
       "    <tr>\n",
       "      <th>count</th>\n",
       "      <td>1989.000000</td>\n",
       "    </tr>\n",
       "    <tr>\n",
       "      <th>mean</th>\n",
       "      <td>2008.038210</td>\n",
       "    </tr>\n",
       "    <tr>\n",
       "      <th>std</th>\n",
       "      <td>4.314305</td>\n",
       "    </tr>\n",
       "    <tr>\n",
       "      <th>min</th>\n",
       "      <td>2000.000000</td>\n",
       "    </tr>\n",
       "    <tr>\n",
       "      <th>25%</th>\n",
       "      <td>2006.000000</td>\n",
       "    </tr>\n",
       "    <tr>\n",
       "      <th>50%</th>\n",
       "      <td>2008.000000</td>\n",
       "    </tr>\n",
       "    <tr>\n",
       "      <th>75%</th>\n",
       "      <td>2010.000000</td>\n",
       "    </tr>\n",
       "    <tr>\n",
       "      <th>max</th>\n",
       "      <td>2019.000000</td>\n",
       "    </tr>\n",
       "  </tbody>\n",
       "</table>\n",
       "</div>"
      ],
      "text/plain": [
       "       Created_Year\n",
       "count   1989.000000\n",
       "mean    2008.038210\n",
       "std        4.314305\n",
       "min     2000.000000\n",
       "25%     2006.000000\n",
       "50%     2008.000000\n",
       "75%     2010.000000\n",
       "max     2019.000000"
      ]
     },
     "execution_count": 41,
     "metadata": {},
     "output_type": "execute_result"
    }
   ],
   "source": [
    "df_sep.describe()"
   ]
  },
  {
   "cell_type": "code",
   "execution_count": 42,
   "metadata": {
    "id": "aamHRVrXbulf"
   },
   "outputs": [],
   "source": [
    "df_sep = df_sep[df_sep['State'] != 'DC']\n",
    "df_sep = df_sep[df_sep['State'] != 'GU'] #guam\n",
    "df_sep = df_sep[df_sep['State'] != 'MP'] #Northern Marianna Islands\n",
    "df_sep = df_sep[df_sep['State'] != 'PR'] #Puerto Rico\n",
    "df_sep = df_sep[df_sep['State'] != 'PW'] #Palau\n",
    "df_sep = df_sep[df_sep['State'] != 'US'] #US\n",
    "df_sep = df_sep[df_sep['State'] != 'VI'] #US Virgin Islands"
   ]
  },
  {
   "cell_type": "code",
   "execution_count": 43,
   "metadata": {
    "colab": {
     "base_uri": "https://localhost:8080/"
    },
    "executionInfo": {
     "elapsed": 10,
     "status": "ok",
     "timestamp": 1754418324578,
     "user": {
      "displayName": "Melissa Best",
      "userId": "13870466150492944908"
     },
     "user_tz": 240
    },
    "id": "IKanV1dPbTY_",
    "outputId": "e9628ffb-84d2-4f6e-93e6-746ff01dd13e"
   },
   "outputs": [
    {
     "data": {
      "text/plain": [
       "50"
      ]
     },
     "execution_count": 43,
     "metadata": {},
     "output_type": "execute_result"
    }
   ],
   "source": [
    "df_sep_state_summary = df_sep.groupby(['State'], sort=True)['Name'].count()\n",
    "len(df_sep_state_summary)"
   ]
  },
  {
   "cell_type": "code",
   "execution_count": 44,
   "metadata": {
    "id": "El0rYXcFKrmI"
   },
   "outputs": [],
   "source": [
    "df_sep['Policy_Incentive_Type']=df_sep['Policy_Incentive_Type'].replace(' ', '_', regex=True)"
   ]
  },
  {
   "cell_type": "code",
   "execution_count": 45,
   "metadata": {
    "colab": {
     "base_uri": "https://localhost:8080/",
     "height": 1000
    },
    "executionInfo": {
     "elapsed": 13,
     "status": "ok",
     "timestamp": 1754418330521,
     "user": {
      "displayName": "Melissa Best",
      "userId": "13870466150492944908"
     },
     "user_tz": 240
    },
    "id": "ksmoUQ54H6v_",
    "outputId": "f4e05890-69c9-4bcb-84df-cfc370dbb60b"
   },
   "outputs": [
    {
     "data": {
      "text/plain": [
       "Category             Policy_Incentive_Type                   \n",
       "Financial Incentive  Bond_Program                                  6\n",
       "                     Corporate_Tax_Credit                          8\n",
       "                     Corporate_Tax_Deduction                       3\n",
       "                     Corporate_Tax_Exemption                       3\n",
       "                     Feed-in_Tariff                                6\n",
       "                     Grant_Program                                49\n",
       "                     Green_Building_Incentive                     14\n",
       "                     Industry_Recruitment/Support                 22\n",
       "                     Leasing_Program                               1\n",
       "                     Loan_Program                                145\n",
       "                     Other_Incentive                               2\n",
       "                     PACE_Financing                               44\n",
       "                     Performance-Based_Incentive                  12\n",
       "                     Personal_Tax_Credit                          12\n",
       "                     Personal_Tax_Deduction                        5\n",
       "                     Property_Tax_Incentive                       77\n",
       "                     Rebate_Program                              872\n",
       "                     Sales_Tax_Incentive                          47\n",
       "                     Solar_Renewable_Energy_Credit_Program         6\n",
       "                     Utility_Rate_Discount                         3\n",
       "Regulatory Policy    Appliance/Equipment_Efficiency_Standards     12\n",
       "                     Building_Energy_Code                         74\n",
       "                     Energy_Efficiency_Resource_Standard          29\n",
       "                     Energy_Standards_for_Public_Buildings        93\n",
       "                     Equipment_Certification                       3\n",
       "                     Generation_Disclosure                        24\n",
       "                     Green_Power_Purchasing                       19\n",
       "                     Interconnection                              46\n",
       "                     Line_Extension_Analysis                       3\n",
       "                     Mandatory_Utility_Green_Power_Option          8\n",
       "                     Net_Metering                                 64\n",
       "                     Other_Policy                                  1\n",
       "                     Public_Benefits_Fund                         36\n",
       "                     Renewables_Portfolio_Standard                40\n",
       "                     Solar/Wind_Access_Policy                     64\n",
       "                     Solar/Wind_Contractor_Licensing              15\n",
       "                     Solar/Wind_Permitting_Standards              56\n",
       "                     Value_of_Solar_Tariff                         2\n",
       "Name: Name, dtype: int64"
      ]
     },
     "execution_count": 45,
     "metadata": {},
     "output_type": "execute_result"
    }
   ],
   "source": [
    "df_sep_summary = df_sep.groupby(['Category', 'Policy_Incentive_Type'], sort=True)['Name'].count()\n",
    "df_sep_summary"
   ]
  },
  {
   "cell_type": "code",
   "execution_count": 46,
   "metadata": {
    "colab": {
     "base_uri": "https://localhost:8080/"
    },
    "executionInfo": {
     "elapsed": 14,
     "status": "ok",
     "timestamp": 1754418337587,
     "user": {
      "displayName": "Melissa Best",
      "userId": "13870466150492944908"
     },
     "user_tz": 240
    },
    "id": "39AhjQU3I8L6",
    "outputId": "e99923a1-bf59-4b6f-b2c5-a2b16d15a91e"
   },
   "outputs": [
    {
     "name": "stdout",
     "output_type": "stream",
     "text": [
      "Policy_Incentive_Type  Appliance/Equipment_Efficiency_Standards  Bond_Program  \\\n",
      "State Created_Year                                                              \n",
      "AK    2000                                                  0.0           0.0   \n",
      "      2005                                                  0.0           0.0   \n",
      "      2006                                                  0.0           0.0   \n",
      "      2008                                                  0.0           0.0   \n",
      "      2009                                                  0.0           0.0   \n",
      "\n",
      "Policy_Incentive_Type  Building_Energy_Code  Corporate_Tax_Credit  \\\n",
      "State Created_Year                                                  \n",
      "AK    2000                              0.0                   0.0   \n",
      "      2005                              0.0                   0.0   \n",
      "      2006                              1.0                   0.0   \n",
      "      2008                              0.0                   0.0   \n",
      "      2009                              0.0                   0.0   \n",
      "\n",
      "Policy_Incentive_Type  Corporate_Tax_Deduction  Corporate_Tax_Exemption  \\\n",
      "State Created_Year                                                        \n",
      "AK    2000                                 0.0                      0.0   \n",
      "      2005                                 0.0                      0.0   \n",
      "      2006                                 0.0                      0.0   \n",
      "      2008                                 0.0                      0.0   \n",
      "      2009                                 0.0                      0.0   \n",
      "\n",
      "Policy_Incentive_Type  Energy_Efficiency_Resource_Standard  \\\n",
      "State Created_Year                                           \n",
      "AK    2000                                             0.0   \n",
      "      2005                                             0.0   \n",
      "      2006                                             0.0   \n",
      "      2008                                             0.0   \n",
      "      2009                                             0.0   \n",
      "\n",
      "Policy_Incentive_Type  Energy_Standards_for_Public_Buildings  \\\n",
      "State Created_Year                                             \n",
      "AK    2000                                               0.0   \n",
      "      2005                                               0.0   \n",
      "      2006                                               0.0   \n",
      "      2008                                               0.0   \n",
      "      2009                                               0.0   \n",
      "\n",
      "Policy_Incentive_Type  Equipment_Certification  Feed-in_Tariff  ...  \\\n",
      "State Created_Year                                              ...   \n",
      "AK    2000                                 0.0             0.0  ...   \n",
      "      2005                                 0.0             0.0  ...   \n",
      "      2006                                 0.0             0.0  ...   \n",
      "      2008                                 0.0             0.0  ...   \n",
      "      2009                                 0.0             0.0  ...   \n",
      "\n",
      "Policy_Incentive_Type  Public_Benefits_Fund  Rebate_Program  \\\n",
      "State Created_Year                                            \n",
      "AK    2000                              0.0             0.0   \n",
      "      2005                              0.0             0.0   \n",
      "      2006                              0.0             0.0   \n",
      "      2008                              0.0             0.0   \n",
      "      2009                              0.0             0.0   \n",
      "\n",
      "Policy_Incentive_Type  Renewables_Portfolio_Standard  Sales_Tax_Incentive  \\\n",
      "State Created_Year                                                          \n",
      "AK    2000                                       0.0                  0.0   \n",
      "      2005                                       0.0                  0.0   \n",
      "      2006                                       0.0                  0.0   \n",
      "      2008                                       0.0                  0.0   \n",
      "      2009                                       0.0                  0.0   \n",
      "\n",
      "Policy_Incentive_Type  Solar/Wind_Access_Policy  \\\n",
      "State Created_Year                                \n",
      "AK    2000                                  1.0   \n",
      "      2005                                  0.0   \n",
      "      2006                                  0.0   \n",
      "      2008                                  0.0   \n",
      "      2009                                  0.0   \n",
      "\n",
      "Policy_Incentive_Type  Solar/Wind_Contractor_Licensing  \\\n",
      "State Created_Year                                       \n",
      "AK    2000                                         0.0   \n",
      "      2005                                         0.0   \n",
      "      2006                                         0.0   \n",
      "      2008                                         0.0   \n",
      "      2009                                         0.0   \n",
      "\n",
      "Policy_Incentive_Type  Solar/Wind_Permitting_Standards  \\\n",
      "State Created_Year                                       \n",
      "AK    2000                                         0.0   \n",
      "      2005                                         0.0   \n",
      "      2006                                         0.0   \n",
      "      2008                                         0.0   \n",
      "      2009                                         0.0   \n",
      "\n",
      "Policy_Incentive_Type  Solar_Renewable_Energy_Credit_Program  \\\n",
      "State Created_Year                                             \n",
      "AK    2000                                               0.0   \n",
      "      2005                                               0.0   \n",
      "      2006                                               0.0   \n",
      "      2008                                               0.0   \n",
      "      2009                                               0.0   \n",
      "\n",
      "Policy_Incentive_Type  Utility_Rate_Discount  Value_of_Solar_Tariff  \n",
      "State Created_Year                                                   \n",
      "AK    2000                               0.0                    0.0  \n",
      "      2005                               0.0                    0.0  \n",
      "      2006                               0.0                    0.0  \n",
      "      2008                               0.0                    0.0  \n",
      "      2009                               0.0                    0.0  \n",
      "\n",
      "[5 rows x 38 columns]\n"
     ]
    }
   ],
   "source": [
    "# Pivot the data wide\n",
    "df_policies = df_sep.pivot_table(index=['State','Created_Year'], columns='Policy_Incentive_Type', values='Name', aggfunc='count').fillna(0)\n",
    "print(df_policies.head())"
   ]
  },
  {
   "cell_type": "code",
   "execution_count": 47,
   "metadata": {
    "colab": {
     "base_uri": "https://localhost:8080/",
     "height": 443
    },
    "executionInfo": {
     "elapsed": 45,
     "status": "ok",
     "timestamp": 1754418345086,
     "user": {
      "displayName": "Melissa Best",
      "userId": "13870466150492944908"
     },
     "user_tz": 240
    },
    "id": "RcqRjbvnOG-H",
    "outputId": "a58eda48-21e1-4073-ce28-0318dee1ee3a"
   },
   "outputs": [
    {
     "data": {
      "text/html": [
       "<div>\n",
       "<style scoped>\n",
       "    .dataframe tbody tr th:only-of-type {\n",
       "        vertical-align: middle;\n",
       "    }\n",
       "\n",
       "    .dataframe tbody tr th {\n",
       "        vertical-align: top;\n",
       "    }\n",
       "\n",
       "    .dataframe thead th {\n",
       "        text-align: right;\n",
       "    }\n",
       "</style>\n",
       "<table border=\"1\" class=\"dataframe\">\n",
       "  <thead>\n",
       "    <tr style=\"text-align: right;\">\n",
       "      <th>Policy_Incentive_Type</th>\n",
       "      <th>State</th>\n",
       "      <th>Created_Year</th>\n",
       "      <th>Appliance/Equipment_Efficiency_Standards</th>\n",
       "      <th>Bond_Program</th>\n",
       "      <th>Building_Energy_Code</th>\n",
       "      <th>Corporate_Tax_Credit</th>\n",
       "      <th>Corporate_Tax_Deduction</th>\n",
       "      <th>Corporate_Tax_Exemption</th>\n",
       "      <th>Energy_Efficiency_Resource_Standard</th>\n",
       "      <th>Energy_Standards_for_Public_Buildings</th>\n",
       "      <th>...</th>\n",
       "      <th>Public_Benefits_Fund</th>\n",
       "      <th>Rebate_Program</th>\n",
       "      <th>Renewables_Portfolio_Standard</th>\n",
       "      <th>Sales_Tax_Incentive</th>\n",
       "      <th>Solar/Wind_Access_Policy</th>\n",
       "      <th>Solar/Wind_Contractor_Licensing</th>\n",
       "      <th>Solar/Wind_Permitting_Standards</th>\n",
       "      <th>Solar_Renewable_Energy_Credit_Program</th>\n",
       "      <th>Utility_Rate_Discount</th>\n",
       "      <th>Value_of_Solar_Tariff</th>\n",
       "    </tr>\n",
       "  </thead>\n",
       "  <tbody>\n",
       "    <tr>\n",
       "      <th>0</th>\n",
       "      <td>AK</td>\n",
       "      <td>2000</td>\n",
       "      <td>0.0</td>\n",
       "      <td>0.0</td>\n",
       "      <td>0.0</td>\n",
       "      <td>0.0</td>\n",
       "      <td>0.0</td>\n",
       "      <td>0.0</td>\n",
       "      <td>0.0</td>\n",
       "      <td>0.0</td>\n",
       "      <td>...</td>\n",
       "      <td>0.0</td>\n",
       "      <td>0.0</td>\n",
       "      <td>0.0</td>\n",
       "      <td>0.0</td>\n",
       "      <td>1.0</td>\n",
       "      <td>0.0</td>\n",
       "      <td>0.0</td>\n",
       "      <td>0.0</td>\n",
       "      <td>0.0</td>\n",
       "      <td>0.0</td>\n",
       "    </tr>\n",
       "    <tr>\n",
       "      <th>1</th>\n",
       "      <td>AK</td>\n",
       "      <td>2005</td>\n",
       "      <td>0.0</td>\n",
       "      <td>0.0</td>\n",
       "      <td>0.0</td>\n",
       "      <td>0.0</td>\n",
       "      <td>0.0</td>\n",
       "      <td>0.0</td>\n",
       "      <td>0.0</td>\n",
       "      <td>0.0</td>\n",
       "      <td>...</td>\n",
       "      <td>0.0</td>\n",
       "      <td>0.0</td>\n",
       "      <td>0.0</td>\n",
       "      <td>0.0</td>\n",
       "      <td>0.0</td>\n",
       "      <td>0.0</td>\n",
       "      <td>0.0</td>\n",
       "      <td>0.0</td>\n",
       "      <td>0.0</td>\n",
       "      <td>0.0</td>\n",
       "    </tr>\n",
       "    <tr>\n",
       "      <th>2</th>\n",
       "      <td>AK</td>\n",
       "      <td>2006</td>\n",
       "      <td>0.0</td>\n",
       "      <td>0.0</td>\n",
       "      <td>1.0</td>\n",
       "      <td>0.0</td>\n",
       "      <td>0.0</td>\n",
       "      <td>0.0</td>\n",
       "      <td>0.0</td>\n",
       "      <td>0.0</td>\n",
       "      <td>...</td>\n",
       "      <td>0.0</td>\n",
       "      <td>0.0</td>\n",
       "      <td>0.0</td>\n",
       "      <td>0.0</td>\n",
       "      <td>0.0</td>\n",
       "      <td>0.0</td>\n",
       "      <td>0.0</td>\n",
       "      <td>0.0</td>\n",
       "      <td>0.0</td>\n",
       "      <td>0.0</td>\n",
       "    </tr>\n",
       "    <tr>\n",
       "      <th>3</th>\n",
       "      <td>AK</td>\n",
       "      <td>2008</td>\n",
       "      <td>0.0</td>\n",
       "      <td>0.0</td>\n",
       "      <td>0.0</td>\n",
       "      <td>0.0</td>\n",
       "      <td>0.0</td>\n",
       "      <td>0.0</td>\n",
       "      <td>0.0</td>\n",
       "      <td>0.0</td>\n",
       "      <td>...</td>\n",
       "      <td>0.0</td>\n",
       "      <td>0.0</td>\n",
       "      <td>0.0</td>\n",
       "      <td>0.0</td>\n",
       "      <td>0.0</td>\n",
       "      <td>0.0</td>\n",
       "      <td>0.0</td>\n",
       "      <td>0.0</td>\n",
       "      <td>0.0</td>\n",
       "      <td>0.0</td>\n",
       "    </tr>\n",
       "    <tr>\n",
       "      <th>4</th>\n",
       "      <td>AK</td>\n",
       "      <td>2009</td>\n",
       "      <td>0.0</td>\n",
       "      <td>0.0</td>\n",
       "      <td>0.0</td>\n",
       "      <td>0.0</td>\n",
       "      <td>0.0</td>\n",
       "      <td>0.0</td>\n",
       "      <td>0.0</td>\n",
       "      <td>0.0</td>\n",
       "      <td>...</td>\n",
       "      <td>0.0</td>\n",
       "      <td>0.0</td>\n",
       "      <td>0.0</td>\n",
       "      <td>0.0</td>\n",
       "      <td>0.0</td>\n",
       "      <td>0.0</td>\n",
       "      <td>0.0</td>\n",
       "      <td>0.0</td>\n",
       "      <td>0.0</td>\n",
       "      <td>0.0</td>\n",
       "    </tr>\n",
       "    <tr>\n",
       "      <th>...</th>\n",
       "      <td>...</td>\n",
       "      <td>...</td>\n",
       "      <td>...</td>\n",
       "      <td>...</td>\n",
       "      <td>...</td>\n",
       "      <td>...</td>\n",
       "      <td>...</td>\n",
       "      <td>...</td>\n",
       "      <td>...</td>\n",
       "      <td>...</td>\n",
       "      <td>...</td>\n",
       "      <td>...</td>\n",
       "      <td>...</td>\n",
       "      <td>...</td>\n",
       "      <td>...</td>\n",
       "      <td>...</td>\n",
       "      <td>...</td>\n",
       "      <td>...</td>\n",
       "      <td>...</td>\n",
       "      <td>...</td>\n",
       "      <td>...</td>\n",
       "    </tr>\n",
       "    <tr>\n",
       "      <th>565</th>\n",
       "      <td>WY</td>\n",
       "      <td>2009</td>\n",
       "      <td>0.0</td>\n",
       "      <td>0.0</td>\n",
       "      <td>0.0</td>\n",
       "      <td>0.0</td>\n",
       "      <td>0.0</td>\n",
       "      <td>0.0</td>\n",
       "      <td>0.0</td>\n",
       "      <td>0.0</td>\n",
       "      <td>...</td>\n",
       "      <td>0.0</td>\n",
       "      <td>2.0</td>\n",
       "      <td>0.0</td>\n",
       "      <td>0.0</td>\n",
       "      <td>0.0</td>\n",
       "      <td>0.0</td>\n",
       "      <td>0.0</td>\n",
       "      <td>0.0</td>\n",
       "      <td>0.0</td>\n",
       "      <td>0.0</td>\n",
       "    </tr>\n",
       "    <tr>\n",
       "      <th>566</th>\n",
       "      <td>WY</td>\n",
       "      <td>2010</td>\n",
       "      <td>0.0</td>\n",
       "      <td>0.0</td>\n",
       "      <td>0.0</td>\n",
       "      <td>0.0</td>\n",
       "      <td>0.0</td>\n",
       "      <td>0.0</td>\n",
       "      <td>0.0</td>\n",
       "      <td>0.0</td>\n",
       "      <td>...</td>\n",
       "      <td>0.0</td>\n",
       "      <td>0.0</td>\n",
       "      <td>0.0</td>\n",
       "      <td>0.0</td>\n",
       "      <td>0.0</td>\n",
       "      <td>0.0</td>\n",
       "      <td>1.0</td>\n",
       "      <td>0.0</td>\n",
       "      <td>0.0</td>\n",
       "      <td>0.0</td>\n",
       "    </tr>\n",
       "    <tr>\n",
       "      <th>567</th>\n",
       "      <td>WY</td>\n",
       "      <td>2011</td>\n",
       "      <td>0.0</td>\n",
       "      <td>0.0</td>\n",
       "      <td>0.0</td>\n",
       "      <td>0.0</td>\n",
       "      <td>0.0</td>\n",
       "      <td>0.0</td>\n",
       "      <td>0.0</td>\n",
       "      <td>0.0</td>\n",
       "      <td>...</td>\n",
       "      <td>0.0</td>\n",
       "      <td>1.0</td>\n",
       "      <td>0.0</td>\n",
       "      <td>0.0</td>\n",
       "      <td>0.0</td>\n",
       "      <td>0.0</td>\n",
       "      <td>0.0</td>\n",
       "      <td>0.0</td>\n",
       "      <td>0.0</td>\n",
       "      <td>0.0</td>\n",
       "    </tr>\n",
       "    <tr>\n",
       "      <th>568</th>\n",
       "      <td>WY</td>\n",
       "      <td>2016</td>\n",
       "      <td>0.0</td>\n",
       "      <td>0.0</td>\n",
       "      <td>0.0</td>\n",
       "      <td>0.0</td>\n",
       "      <td>0.0</td>\n",
       "      <td>0.0</td>\n",
       "      <td>0.0</td>\n",
       "      <td>0.0</td>\n",
       "      <td>...</td>\n",
       "      <td>0.0</td>\n",
       "      <td>0.0</td>\n",
       "      <td>0.0</td>\n",
       "      <td>0.0</td>\n",
       "      <td>0.0</td>\n",
       "      <td>0.0</td>\n",
       "      <td>0.0</td>\n",
       "      <td>0.0</td>\n",
       "      <td>0.0</td>\n",
       "      <td>0.0</td>\n",
       "    </tr>\n",
       "    <tr>\n",
       "      <th>569</th>\n",
       "      <td>WY</td>\n",
       "      <td>2019</td>\n",
       "      <td>0.0</td>\n",
       "      <td>0.0</td>\n",
       "      <td>0.0</td>\n",
       "      <td>0.0</td>\n",
       "      <td>0.0</td>\n",
       "      <td>0.0</td>\n",
       "      <td>0.0</td>\n",
       "      <td>0.0</td>\n",
       "      <td>...</td>\n",
       "      <td>0.0</td>\n",
       "      <td>2.0</td>\n",
       "      <td>0.0</td>\n",
       "      <td>0.0</td>\n",
       "      <td>0.0</td>\n",
       "      <td>0.0</td>\n",
       "      <td>0.0</td>\n",
       "      <td>0.0</td>\n",
       "      <td>0.0</td>\n",
       "      <td>0.0</td>\n",
       "    </tr>\n",
       "  </tbody>\n",
       "</table>\n",
       "<p>570 rows × 40 columns</p>\n",
       "</div>"
      ],
      "text/plain": [
       "Policy_Incentive_Type State  Created_Year  \\\n",
       "0                        AK          2000   \n",
       "1                        AK          2005   \n",
       "2                        AK          2006   \n",
       "3                        AK          2008   \n",
       "4                        AK          2009   \n",
       "..                      ...           ...   \n",
       "565                      WY          2009   \n",
       "566                      WY          2010   \n",
       "567                      WY          2011   \n",
       "568                      WY          2016   \n",
       "569                      WY          2019   \n",
       "\n",
       "Policy_Incentive_Type  Appliance/Equipment_Efficiency_Standards  Bond_Program  \\\n",
       "0                                                           0.0           0.0   \n",
       "1                                                           0.0           0.0   \n",
       "2                                                           0.0           0.0   \n",
       "3                                                           0.0           0.0   \n",
       "4                                                           0.0           0.0   \n",
       "..                                                          ...           ...   \n",
       "565                                                         0.0           0.0   \n",
       "566                                                         0.0           0.0   \n",
       "567                                                         0.0           0.0   \n",
       "568                                                         0.0           0.0   \n",
       "569                                                         0.0           0.0   \n",
       "\n",
       "Policy_Incentive_Type  Building_Energy_Code  Corporate_Tax_Credit  \\\n",
       "0                                       0.0                   0.0   \n",
       "1                                       0.0                   0.0   \n",
       "2                                       1.0                   0.0   \n",
       "3                                       0.0                   0.0   \n",
       "4                                       0.0                   0.0   \n",
       "..                                      ...                   ...   \n",
       "565                                     0.0                   0.0   \n",
       "566                                     0.0                   0.0   \n",
       "567                                     0.0                   0.0   \n",
       "568                                     0.0                   0.0   \n",
       "569                                     0.0                   0.0   \n",
       "\n",
       "Policy_Incentive_Type  Corporate_Tax_Deduction  Corporate_Tax_Exemption  \\\n",
       "0                                          0.0                      0.0   \n",
       "1                                          0.0                      0.0   \n",
       "2                                          0.0                      0.0   \n",
       "3                                          0.0                      0.0   \n",
       "4                                          0.0                      0.0   \n",
       "..                                         ...                      ...   \n",
       "565                                        0.0                      0.0   \n",
       "566                                        0.0                      0.0   \n",
       "567                                        0.0                      0.0   \n",
       "568                                        0.0                      0.0   \n",
       "569                                        0.0                      0.0   \n",
       "\n",
       "Policy_Incentive_Type  Energy_Efficiency_Resource_Standard  \\\n",
       "0                                                      0.0   \n",
       "1                                                      0.0   \n",
       "2                                                      0.0   \n",
       "3                                                      0.0   \n",
       "4                                                      0.0   \n",
       "..                                                     ...   \n",
       "565                                                    0.0   \n",
       "566                                                    0.0   \n",
       "567                                                    0.0   \n",
       "568                                                    0.0   \n",
       "569                                                    0.0   \n",
       "\n",
       "Policy_Incentive_Type  Energy_Standards_for_Public_Buildings  ...  \\\n",
       "0                                                        0.0  ...   \n",
       "1                                                        0.0  ...   \n",
       "2                                                        0.0  ...   \n",
       "3                                                        0.0  ...   \n",
       "4                                                        0.0  ...   \n",
       "..                                                       ...  ...   \n",
       "565                                                      0.0  ...   \n",
       "566                                                      0.0  ...   \n",
       "567                                                      0.0  ...   \n",
       "568                                                      0.0  ...   \n",
       "569                                                      0.0  ...   \n",
       "\n",
       "Policy_Incentive_Type  Public_Benefits_Fund  Rebate_Program  \\\n",
       "0                                       0.0             0.0   \n",
       "1                                       0.0             0.0   \n",
       "2                                       0.0             0.0   \n",
       "3                                       0.0             0.0   \n",
       "4                                       0.0             0.0   \n",
       "..                                      ...             ...   \n",
       "565                                     0.0             2.0   \n",
       "566                                     0.0             0.0   \n",
       "567                                     0.0             1.0   \n",
       "568                                     0.0             0.0   \n",
       "569                                     0.0             2.0   \n",
       "\n",
       "Policy_Incentive_Type  Renewables_Portfolio_Standard  Sales_Tax_Incentive  \\\n",
       "0                                                0.0                  0.0   \n",
       "1                                                0.0                  0.0   \n",
       "2                                                0.0                  0.0   \n",
       "3                                                0.0                  0.0   \n",
       "4                                                0.0                  0.0   \n",
       "..                                               ...                  ...   \n",
       "565                                              0.0                  0.0   \n",
       "566                                              0.0                  0.0   \n",
       "567                                              0.0                  0.0   \n",
       "568                                              0.0                  0.0   \n",
       "569                                              0.0                  0.0   \n",
       "\n",
       "Policy_Incentive_Type  Solar/Wind_Access_Policy  \\\n",
       "0                                           1.0   \n",
       "1                                           0.0   \n",
       "2                                           0.0   \n",
       "3                                           0.0   \n",
       "4                                           0.0   \n",
       "..                                          ...   \n",
       "565                                         0.0   \n",
       "566                                         0.0   \n",
       "567                                         0.0   \n",
       "568                                         0.0   \n",
       "569                                         0.0   \n",
       "\n",
       "Policy_Incentive_Type  Solar/Wind_Contractor_Licensing  \\\n",
       "0                                                  0.0   \n",
       "1                                                  0.0   \n",
       "2                                                  0.0   \n",
       "3                                                  0.0   \n",
       "4                                                  0.0   \n",
       "..                                                 ...   \n",
       "565                                                0.0   \n",
       "566                                                0.0   \n",
       "567                                                0.0   \n",
       "568                                                0.0   \n",
       "569                                                0.0   \n",
       "\n",
       "Policy_Incentive_Type  Solar/Wind_Permitting_Standards  \\\n",
       "0                                                  0.0   \n",
       "1                                                  0.0   \n",
       "2                                                  0.0   \n",
       "3                                                  0.0   \n",
       "4                                                  0.0   \n",
       "..                                                 ...   \n",
       "565                                                0.0   \n",
       "566                                                1.0   \n",
       "567                                                0.0   \n",
       "568                                                0.0   \n",
       "569                                                0.0   \n",
       "\n",
       "Policy_Incentive_Type  Solar_Renewable_Energy_Credit_Program  \\\n",
       "0                                                        0.0   \n",
       "1                                                        0.0   \n",
       "2                                                        0.0   \n",
       "3                                                        0.0   \n",
       "4                                                        0.0   \n",
       "..                                                       ...   \n",
       "565                                                      0.0   \n",
       "566                                                      0.0   \n",
       "567                                                      0.0   \n",
       "568                                                      0.0   \n",
       "569                                                      0.0   \n",
       "\n",
       "Policy_Incentive_Type  Utility_Rate_Discount  Value_of_Solar_Tariff  \n",
       "0                                        0.0                    0.0  \n",
       "1                                        0.0                    0.0  \n",
       "2                                        0.0                    0.0  \n",
       "3                                        0.0                    0.0  \n",
       "4                                        0.0                    0.0  \n",
       "..                                       ...                    ...  \n",
       "565                                      0.0                    0.0  \n",
       "566                                      0.0                    0.0  \n",
       "567                                      0.0                    0.0  \n",
       "568                                      0.0                    0.0  \n",
       "569                                      0.0                    0.0  \n",
       "\n",
       "[570 rows x 40 columns]"
      ]
     },
     "execution_count": 47,
     "metadata": {},
     "output_type": "execute_result"
    }
   ],
   "source": [
    "df_policies.reset_index()"
   ]
  },
  {
   "cell_type": "code",
   "execution_count": 48,
   "metadata": {
    "colab": {
     "base_uri": "https://localhost:8080/",
     "height": 1000
    },
    "executionInfo": {
     "elapsed": 27,
     "status": "ok",
     "timestamp": 1754418392409,
     "user": {
      "displayName": "Melissa Best",
      "userId": "13870466150492944908"
     },
     "user_tz": 240
    },
    "id": "FDU-ys5de4XI",
    "outputId": "c1045d16-44f2-452c-f1f9-5c1c1c4fccf3"
   },
   "outputs": [
    {
     "data": {
      "text/plain": [
       "Policy_Incentive_Type\n",
       "Appliance/Equipment_Efficiency_Standards     12.0\n",
       "Bond_Program                                  6.0\n",
       "Building_Energy_Code                         74.0\n",
       "Corporate_Tax_Credit                          8.0\n",
       "Corporate_Tax_Deduction                       3.0\n",
       "Corporate_Tax_Exemption                       3.0\n",
       "Energy_Efficiency_Resource_Standard          29.0\n",
       "Energy_Standards_for_Public_Buildings        93.0\n",
       "Equipment_Certification                       3.0\n",
       "Feed-in_Tariff                                6.0\n",
       "Generation_Disclosure                        24.0\n",
       "Grant_Program                                49.0\n",
       "Green_Building_Incentive                     14.0\n",
       "Green_Power_Purchasing                       19.0\n",
       "Industry_Recruitment/Support                 22.0\n",
       "Interconnection                              46.0\n",
       "Leasing_Program                               1.0\n",
       "Line_Extension_Analysis                       3.0\n",
       "Loan_Program                                145.0\n",
       "Mandatory_Utility_Green_Power_Option          8.0\n",
       "Net_Metering                                 64.0\n",
       "Other_Incentive                               2.0\n",
       "Other_Policy                                  1.0\n",
       "PACE_Financing                               44.0\n",
       "Performance-Based_Incentive                  12.0\n",
       "Personal_Tax_Credit                          12.0\n",
       "Personal_Tax_Deduction                        5.0\n",
       "Property_Tax_Incentive                       77.0\n",
       "Public_Benefits_Fund                         36.0\n",
       "Rebate_Program                              872.0\n",
       "Renewables_Portfolio_Standard                40.0\n",
       "Sales_Tax_Incentive                          47.0\n",
       "Solar/Wind_Access_Policy                     64.0\n",
       "Solar/Wind_Contractor_Licensing              15.0\n",
       "Solar/Wind_Permitting_Standards              56.0\n",
       "Solar_Renewable_Energy_Credit_Program         6.0\n",
       "Utility_Rate_Discount                         3.0\n",
       "Value_of_Solar_Tariff                         2.0\n",
       "dtype: float64"
      ]
     },
     "execution_count": 48,
     "metadata": {},
     "output_type": "execute_result"
    }
   ],
   "source": [
    "df_policies.sum()"
   ]
  },
  {
   "cell_type": "code",
   "execution_count": 49,
   "metadata": {
    "id": "cA-nQYwNWXtO"
   },
   "outputs": [],
   "source": [
    "if colab == 1:\n",
    "    #Google Colab only: Export to CSV (save to Google Drive)\n",
    "    df_policies.to_csv('/content/drive/My Drive/capstone_data/df_policies.csv', index=True)\n",
    "elif colab == 0:\n",
    "    #jupyter notebook only\n",
    "    df_policies.to_csv('capstone_data_cleaned/df_policies.csv', index=True)"
   ]
  },
  {
   "cell_type": "code",
   "execution_count": null,
   "metadata": {},
   "outputs": [],
   "source": []
  }
 ],
 "metadata": {
  "colab": {
   "provenance": [
    {
     "file_id": "13rU1iViqHF8zRotFUgksA9jhMExIAbWM",
     "timestamp": 1753578309997
    }
   ]
  },
  "kernelspec": {
   "display_name": "Python [conda env:base] *",
   "language": "python",
   "name": "conda-base-py"
  },
  "language_info": {
   "codemirror_mode": {
    "name": "ipython",
    "version": 3
   },
   "file_extension": ".py",
   "mimetype": "text/x-python",
   "name": "python",
   "nbconvert_exporter": "python",
   "pygments_lexer": "ipython3",
   "version": "3.12.7"
  }
 },
 "nbformat": 4,
 "nbformat_minor": 4
}
